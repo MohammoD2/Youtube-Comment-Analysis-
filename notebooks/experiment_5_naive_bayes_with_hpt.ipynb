{
  "cells": [
    {
      "cell_type": "code",
      "execution_count": 1,
      "metadata": {
        "id": "FitSe4YqLphs"
      },
      "outputs": [
        {
          "data": {
            "text/html": [
              "<pre style=\"white-space:pre;overflow-x:auto;line-height:normal;font-family:Menlo,'DejaVu Sans Mono',consolas,'Courier New',monospace\">Accessing as MohammoD2\n",
              "</pre>\n"
            ],
            "text/plain": [
              "Accessing as MohammoD2\n"
            ]
          },
          "metadata": {},
          "output_type": "display_data"
        },
        {
          "data": {
            "text/html": [
              "<pre style=\"white-space:pre;overflow-x:auto;line-height:normal;font-family:Menlo,'DejaVu Sans Mono',consolas,'Courier New',monospace\">Initialized MLflow to track repo <span style=\"color: #008000; text-decoration-color: #008000\">\"MohammoD2/Youtube-Comment-Analysis-\"</span>\n",
              "</pre>\n"
            ],
            "text/plain": [
              "Initialized MLflow to track repo \u001b[32m\"MohammoD2/Youtube-Comment-Analysis-\"\u001b[0m\n"
            ]
          },
          "metadata": {},
          "output_type": "display_data"
        },
        {
          "data": {
            "text/html": [
              "<pre style=\"white-space:pre;overflow-x:auto;line-height:normal;font-family:Menlo,'DejaVu Sans Mono',consolas,'Courier New',monospace\">Repository MohammoD2/Youtube-Comment-Analysis- initialized!\n",
              "</pre>\n"
            ],
            "text/plain": [
              "Repository MohammoD2/Youtube-Comment-Analysis- initialized!\n"
            ]
          },
          "metadata": {},
          "output_type": "display_data"
        },
        {
          "data": {
            "text/plain": [
              "<Experiment: artifact_location='mlflow-artifacts:/c8ea385a5aba45869afef68984881de0', creation_time=1732855093258, experiment_id='5', last_update_time=1732855093258, lifecycle_stage='active', name='Exp 5 - ML Algos with HP Tuning', tags={}>"
            ]
          },
          "execution_count": 1,
          "metadata": {},
          "output_type": "execute_result"
        }
      ],
      "source": [
        "import mlflow\n",
        "import dagshub\n",
        "\n",
        "# Step 1: Initialize DagsHub with MLflow\n",
        "repo_owner = \"MohammoD2\"  # Your DagsHub username\n",
        "repo_name = \"Youtube-Comment-Analysis-\"  # Your DagsHub repository name\n",
        "mlflow_tracking_uri = f\"https://dagshub.com/{repo_owner}/{repo_name}.mlflow\"\n",
        "\n",
        "dagshub.init(repo_owner=repo_owner, repo_name=repo_name, mlflow=True)\n",
        "mlflow.set_tracking_uri(mlflow_tracking_uri)\n",
        "\n",
        "# Step 2: Set or create an experiment\n",
        "experiment_name = \"Exp 5 - ML Algos with HP Tuning\"\n",
        "mlflow.set_experiment(experiment_name)"
      ]
    },
    {
      "cell_type": "code",
      "execution_count": 2,
      "metadata": {
        "id": "yePqZe37L3yf"
      },
      "outputs": [
        {
          "name": "stderr",
          "output_type": "stream",
          "text": [
            "d:\\Work file\\youtube_comment_analysis_v1\\venv\\Lib\\site-packages\\tqdm\\auto.py:21: TqdmWarning: IProgress not found. Please update jupyter and ipywidgets. See https://ipywidgets.readthedocs.io/en/stable/user_install.html\n",
            "  from .autonotebook import tqdm as notebook_tqdm\n"
          ]
        }
      ],
      "source": [
        "import pandas as pd\n",
        "from sklearn.feature_extraction.text import TfidfVectorizer\n",
        "from sklearn.model_selection import train_test_split\n",
        "from sklearn.naive_bayes import MultinomialNB\n",
        "from sklearn.metrics import accuracy_score, classification_report\n",
        "from imblearn.over_sampling import SMOTE\n",
        "import mlflow\n",
        "import mlflow.sklearn\n",
        "import optuna\n"
      ]
    },
    {
      "cell_type": "code",
      "execution_count": 3,
      "metadata": {
        "colab": {
          "base_uri": "https://localhost:8080/"
        },
        "id": "Vf3mf2bjMGjf",
        "outputId": "ab993e9e-7f58-45a6-e4ad-9bb13d28230a"
      },
      "outputs": [
        {
          "data": {
            "text/plain": [
              "(36662, 2)"
            ]
          },
          "execution_count": 3,
          "metadata": {},
          "output_type": "execute_result"
        }
      ],
      "source": [
        "df = pd.read_csv('reddit_preprocessing.csv').dropna()\n",
        "df.shape"
      ]
    },
    {
      "cell_type": "code",
      "execution_count": 4,
      "metadata": {
        "colab": {
          "base_uri": "https://localhost:8080/"
        },
        "id": "xhwie-MyMNNw",
        "outputId": "df8d178f-9922-4657-e844-d99b2dfa2c81"
      },
      "outputs": [
        {
          "name": "stderr",
          "output_type": "stream",
          "text": [
            "[I 2024-11-29 10:42:11,218] A new study created in memory with name: no-name-acb385bc-0628-405a-a190-8108f439d5ba\n",
            "[I 2024-11-29 10:42:11,277] Trial 0 finished with value: 0.6682519551891778 and parameters: {'alpha': 0.01326787088750159}. Best is trial 0 with value: 0.6682519551891778.\n",
            "[I 2024-11-29 10:42:11,284] Trial 1 finished with value: 0.6682519551891778 and parameters: {'alpha': 0.0008018004214026468}. Best is trial 0 with value: 0.6682519551891778.\n",
            "[I 2024-11-29 10:42:11,290] Trial 2 finished with value: 0.6650813781441556 and parameters: {'alpha': 0.8293287088378707}. Best is trial 0 with value: 0.6682519551891778.\n",
            "[I 2024-11-29 10:42:11,298] Trial 3 finished with value: 0.6682519551891778 and parameters: {'alpha': 0.0005065959572568751}. Best is trial 0 with value: 0.6682519551891778.\n",
            "[I 2024-11-29 10:42:11,307] Trial 4 finished with value: 0.6683576410906785 and parameters: {'alpha': 0.0013272096082461696}. Best is trial 4 with value: 0.6683576410906785.\n",
            "[I 2024-11-29 10:42:11,314] Trial 5 finished with value: 0.6679348974846755 and parameters: {'alpha': 0.05667331329657377}. Best is trial 4 with value: 0.6683576410906785.\n",
            "[I 2024-11-29 10:42:11,324] Trial 6 finished with value: 0.6666666666666666 and parameters: {'alpha': 0.15570321256316225}. Best is trial 4 with value: 0.6683576410906785.\n",
            "[I 2024-11-29 10:42:11,331] Trial 7 finished with value: 0.6682519551891778 and parameters: {'alpha': 0.02167122234997397}. Best is trial 4 with value: 0.6683576410906785.\n",
            "[I 2024-11-29 10:42:11,342] Trial 8 finished with value: 0.6683576410906785 and parameters: {'alpha': 0.006331082427374529}. Best is trial 4 with value: 0.6683576410906785.\n",
            "[I 2024-11-29 10:42:11,349] Trial 9 finished with value: 0.6679348974846755 and parameters: {'alpha': 0.05470175880195532}. Best is trial 4 with value: 0.6683576410906785.\n",
            "[I 2024-11-29 10:42:11,370] Trial 10 finished with value: 0.6682519551891778 and parameters: {'alpha': 0.00012179880052074686}. Best is trial 4 with value: 0.6683576410906785.\n",
            "[I 2024-11-29 10:42:11,381] Trial 11 finished with value: 0.6684633269921793 and parameters: {'alpha': 0.001984677689887169}. Best is trial 11 with value: 0.6684633269921793.\n",
            "[I 2024-11-29 10:42:11,391] Trial 12 finished with value: 0.6684633269921793 and parameters: {'alpha': 0.002116795984809912}. Best is trial 11 with value: 0.6684633269921793.\n",
            "[I 2024-11-29 10:42:11,402] Trial 13 finished with value: 0.6683576410906785 and parameters: {'alpha': 0.003537118793983317}. Best is trial 11 with value: 0.6684633269921793.\n",
            "[I 2024-11-29 10:42:11,412] Trial 14 finished with value: 0.6682519551891778 and parameters: {'alpha': 0.00023260742521042464}. Best is trial 11 with value: 0.6684633269921793.\n",
            "[I 2024-11-29 10:42:11,422] Trial 15 finished with value: 0.6684633269921793 and parameters: {'alpha': 0.0024093710585825503}. Best is trial 11 with value: 0.6684633269921793.\n",
            "[I 2024-11-29 10:42:11,434] Trial 16 finished with value: 0.6682519551891778 and parameters: {'alpha': 0.0003536304114925143}. Best is trial 11 with value: 0.6684633269921793.\n",
            "[I 2024-11-29 10:42:11,444] Trial 17 finished with value: 0.6683576410906785 and parameters: {'alpha': 0.001878861624493191}. Best is trial 11 with value: 0.6684633269921793.\n",
            "[I 2024-11-29 10:42:11,456] Trial 18 finished with value: 0.6683576410906785 and parameters: {'alpha': 0.006978304780719795}. Best is trial 11 with value: 0.6684633269921793.\n",
            "[I 2024-11-29 10:42:11,468] Trial 19 finished with value: 0.6682519551891778 and parameters: {'alpha': 0.0008415543455561872}. Best is trial 11 with value: 0.6684633269921793.\n",
            "[I 2024-11-29 10:42:11,480] Trial 20 finished with value: 0.6681462692876771 and parameters: {'alpha': 0.03152761191234381}. Best is trial 11 with value: 0.6684633269921793.\n",
            "[I 2024-11-29 10:42:11,495] Trial 21 finished with value: 0.6684633269921793 and parameters: {'alpha': 0.00285556653967263}. Best is trial 11 with value: 0.6684633269921793.\n",
            "[I 2024-11-29 10:42:11,507] Trial 22 finished with value: 0.6683576410906785 and parameters: {'alpha': 0.0040994084930061556}. Best is trial 11 with value: 0.6684633269921793.\n",
            "[I 2024-11-29 10:42:11,518] Trial 23 finished with value: 0.6684633269921793 and parameters: {'alpha': 0.002207977083550612}. Best is trial 11 with value: 0.6684633269921793.\n",
            "[I 2024-11-29 10:42:11,528] Trial 24 finished with value: 0.6682519551891778 and parameters: {'alpha': 0.010041870659841915}. Best is trial 11 with value: 0.6684633269921793.\n",
            "[I 2024-11-29 10:42:11,539] Trial 25 finished with value: 0.6683576410906785 and parameters: {'alpha': 0.001126516080888672}. Best is trial 11 with value: 0.6684633269921793.\n",
            "[I 2024-11-29 10:42:11,553] Trial 26 finished with value: 0.6682519551891778 and parameters: {'alpha': 0.00017180600464995201}. Best is trial 11 with value: 0.6684633269921793.\n",
            "[I 2024-11-29 10:42:11,564] Trial 27 finished with value: 0.6682519551891778 and parameters: {'alpha': 0.0005300527620469153}. Best is trial 11 with value: 0.6684633269921793.\n",
            "[I 2024-11-29 10:42:11,577] Trial 28 finished with value: 0.6683576410906785 and parameters: {'alpha': 0.004939101871167723}. Best is trial 11 with value: 0.6684633269921793.\n",
            "[I 2024-11-29 10:42:11,587] Trial 29 finished with value: 0.6682519551891778 and parameters: {'alpha': 0.01760830560456726}. Best is trial 11 with value: 0.6684633269921793.\n",
            "2024/11/29 10:42:41 WARNING mlflow.models.model: Model logged without a signature and input example. Please set `input_example` parameter when logging the model to auto infer the model signature.\n"
          ]
        },
        {
          "name": "stdout",
          "output_type": "stream",
          "text": [
            "🏃 View run MultinomialNB_SMOTE_TFIDF_Trigrams at: https://dagshub.com/MohammoD2/Youtube-Comment-Analysis-.mlflow/#/experiments/5/runs/ee4dc1e1bef6447ab8b87d5ffe3a4bd6\n",
            "🧪 View experiment at: https://dagshub.com/MohammoD2/Youtube-Comment-Analysis-.mlflow/#/experiments/5\n"
          ]
        }
      ],
      "source": [
        "# Step 1: (Optional) Remapping - skipped since not strictly needed for Multinomial Naive Bayes\n",
        "\n",
        "# Step 2: Remove rows where the target labels (category) are NaN\n",
        "df = df.dropna(subset=['category'])\n",
        "\n",
        "# Step 3: TF-IDF vectorizer setup\n",
        "ngram_range = (1, 3)  # Trigram\n",
        "max_features = 1000  # Set max_features to 1000\n",
        "vectorizer = TfidfVectorizer(ngram_range=ngram_range, max_features=max_features)\n",
        "X = vectorizer.fit_transform(df['clean_comment'])\n",
        "y = df['category']\n",
        "\n",
        "# Step 4: Apply SMOTE to handle class imbalance\n",
        "smote = SMOTE(random_state=42)\n",
        "X_resampled, y_resampled = smote.fit_resample(X, y)\n",
        "\n",
        "# Step 5: Train-test split\n",
        "X_train, X_test, y_train, y_test = train_test_split(X_resampled, y_resampled, test_size=0.2, random_state=42, stratify=y_resampled)\n",
        "\n",
        "# Function to log results in MLflow\n",
        "def log_mlflow(model_name, model, X_train, X_test, y_train, y_test):\n",
        "    with mlflow.start_run():\n",
        "        # Log model type\n",
        "        mlflow.set_tag(\"mlflow.runName\", f\"{model_name}_SMOTE_TFIDF_Trigrams\")\n",
        "        mlflow.set_tag(\"experiment_type\", \"algorithm_comparison\")\n",
        "\n",
        "        # Log algorithm name as a parameter\n",
        "        mlflow.log_param(\"algo_name\", model_name)\n",
        "\n",
        "        # Train model\n",
        "        model.fit(X_train, y_train)\n",
        "        y_pred = model.predict(X_test)\n",
        "\n",
        "        # Log accuracy\n",
        "        accuracy = accuracy_score(y_test, y_pred)\n",
        "        mlflow.log_metric(\"accuracy\", accuracy)\n",
        "\n",
        "        # Log classification report\n",
        "        classification_rep = classification_report(y_test, y_pred, output_dict=True)\n",
        "        for label, metrics in classification_rep.items():\n",
        "            if isinstance(metrics, dict):\n",
        "                for metric, value in metrics.items():\n",
        "                    mlflow.log_metric(f\"{label}_{metric}\", value)\n",
        "\n",
        "        # Log the model\n",
        "        mlflow.sklearn.log_model(model, f\"{model_name}_model\")\n",
        "\n",
        "\n",
        "# Step 6: Optuna objective function for Multinomial Naive Bayes\n",
        "def objective_mnb(trial):\n",
        "    alpha = trial.suggest_float('alpha', 1e-4, 1.0, log=True)  # Tuning the smoothing parameter\n",
        "\n",
        "    # MultinomialNB model setup\n",
        "    model = MultinomialNB(alpha=alpha)\n",
        "    return accuracy_score(y_test, model.fit(X_train, y_train).predict(X_test))\n",
        "\n",
        "\n",
        "# Step 7: Run Optuna for Multinomial Naive Bayes, log the best model only\n",
        "def run_optuna_experiment():\n",
        "    study = optuna.create_study(direction=\"maximize\")\n",
        "    study.optimize(objective_mnb, n_trials=30)\n",
        "\n",
        "    # Get the best parameters and log only the best model\n",
        "    best_params = study.best_params\n",
        "    best_model = MultinomialNB(alpha=best_params['alpha'])\n",
        "\n",
        "    # Log the best model with MLflow, passing the algo_name as \"MultinomialNB\"\n",
        "    log_mlflow(\"MultinomialNB\", best_model, X_train, X_test, y_train, y_test)\n",
        "\n",
        "# Run the experiment for Multinomial Naive Bayes\n",
        "run_optuna_experiment()\n"
      ]
    },
    {
      "cell_type": "code",
      "execution_count": null,
      "metadata": {
        "id": "9_X8KbpdMQaS"
      },
      "outputs": [],
      "source": []
    }
  ],
  "metadata": {
    "colab": {
      "provenance": []
    },
    "kernelspec": {
      "display_name": "venv",
      "language": "python",
      "name": "python3"
    },
    "language_info": {
      "codemirror_mode": {
        "name": "ipython",
        "version": 3
      },
      "file_extension": ".py",
      "mimetype": "text/x-python",
      "name": "python",
      "nbconvert_exporter": "python",
      "pygments_lexer": "ipython3",
      "version": "3.12.0"
    }
  },
  "nbformat": 4,
  "nbformat_minor": 0
}
