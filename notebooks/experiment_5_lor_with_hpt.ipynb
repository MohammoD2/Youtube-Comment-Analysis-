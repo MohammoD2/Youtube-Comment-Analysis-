{
  "cells": [
    {
      "cell_type": "code",
      "execution_count": 1,
      "metadata": {
        "id": "r-7ysUuxyuVs"
      },
      "outputs": [
        {
          "data": {
            "text/html": [
              "<pre style=\"white-space:pre;overflow-x:auto;line-height:normal;font-family:Menlo,'DejaVu Sans Mono',consolas,'Courier New',monospace\">Accessing as MohammoD2\n",
              "</pre>\n"
            ],
            "text/plain": [
              "Accessing as MohammoD2\n"
            ]
          },
          "metadata": {},
          "output_type": "display_data"
        },
        {
          "data": {
            "text/html": [
              "<pre style=\"white-space:pre;overflow-x:auto;line-height:normal;font-family:Menlo,'DejaVu Sans Mono',consolas,'Courier New',monospace\">Initialized MLflow to track repo <span style=\"color: #008000; text-decoration-color: #008000\">\"MohammoD2/Youtube-Comment-Analysis-\"</span>\n",
              "</pre>\n"
            ],
            "text/plain": [
              "Initialized MLflow to track repo \u001b[32m\"MohammoD2/Youtube-Comment-Analysis-\"\u001b[0m\n"
            ]
          },
          "metadata": {},
          "output_type": "display_data"
        },
        {
          "data": {
            "text/html": [
              "<pre style=\"white-space:pre;overflow-x:auto;line-height:normal;font-family:Menlo,'DejaVu Sans Mono',consolas,'Courier New',monospace\">Repository MohammoD2/Youtube-Comment-Analysis- initialized!\n",
              "</pre>\n"
            ],
            "text/plain": [
              "Repository MohammoD2/Youtube-Comment-Analysis- initialized!\n"
            ]
          },
          "metadata": {},
          "output_type": "display_data"
        },
        {
          "data": {
            "text/plain": [
              "<Experiment: artifact_location='mlflow-artifacts:/c8ea385a5aba45869afef68984881de0', creation_time=1732855093258, experiment_id='5', last_update_time=1732855093258, lifecycle_stage='active', name='Exp 5 - ML Algos with HP Tuning', tags={}>"
            ]
          },
          "execution_count": 1,
          "metadata": {},
          "output_type": "execute_result"
        }
      ],
      "source": [
        "import mlflow\n",
        "import dagshub\n",
        "\n",
        "# Step 1: Initialize DagsHub with MLflow\n",
        "repo_owner = \"MohammoD2\"  # Your DagsHub username\n",
        "repo_name = \"Youtube-Comment-Analysis-\"  # Your DagsHub repository name\n",
        "mlflow_tracking_uri = f\"https://dagshub.com/{repo_owner}/{repo_name}.mlflow\"\n",
        "\n",
        "dagshub.init(repo_owner=repo_owner, repo_name=repo_name, mlflow=True)\n",
        "mlflow.set_tracking_uri(mlflow_tracking_uri)\n",
        "\n",
        "# Step 2: Set or create an experiment\n",
        "experiment_name = \"Exp 5 - ML Algos with HP Tuning\"\n",
        "mlflow.set_experiment(experiment_name)"
      ]
    },
    {
      "cell_type": "code",
      "execution_count": 2,
      "metadata": {
        "id": "5zTFu8-py63X"
      },
      "outputs": [
        {
          "name": "stderr",
          "output_type": "stream",
          "text": [
            "d:\\Work file\\youtube_comment_analysis_v1\\venv\\Lib\\site-packages\\tqdm\\auto.py:21: TqdmWarning: IProgress not found. Please update jupyter and ipywidgets. See https://ipywidgets.readthedocs.io/en/stable/user_install.html\n",
            "  from .autonotebook import tqdm as notebook_tqdm\n"
          ]
        }
      ],
      "source": [
        "import pandas as pd\n",
        "from sklearn.feature_extraction.text import TfidfVectorizer\n",
        "from sklearn.model_selection import train_test_split\n",
        "from sklearn.linear_model import LogisticRegression\n",
        "from sklearn.metrics import accuracy_score, classification_report\n",
        "from imblearn.over_sampling import SMOTE\n",
        "import mlflow\n",
        "import mlflow.sklearn\n",
        "import optuna\n"
      ]
    },
    {
      "cell_type": "code",
      "execution_count": 3,
      "metadata": {
        "colab": {
          "base_uri": "https://localhost:8080/"
        },
        "id": "ApulXm9Yy-m7",
        "outputId": "ea6ec006-f4d6-4aad-9687-f9edef00a686"
      },
      "outputs": [
        {
          "data": {
            "text/plain": [
              "(36662, 2)"
            ]
          },
          "execution_count": 3,
          "metadata": {},
          "output_type": "execute_result"
        }
      ],
      "source": [
        "df = pd.read_csv('reddit_preprocessing.csv').dropna()\n",
        "df.shape"
      ]
    },
    {
      "cell_type": "code",
      "execution_count": 4,
      "metadata": {
        "colab": {
          "base_uri": "https://localhost:8080/"
        },
        "id": "frq0yf4CzXXv",
        "outputId": "faa54a1b-733a-4d6d-b3bd-ef35cdd6ad61"
      },
      "outputs": [
        {
          "name": "stderr",
          "output_type": "stream",
          "text": [
            "[I 2024-11-29 10:41:36,413] A new study created in memory with name: no-name-1f982b3b-5bcf-47fb-ab8d-77d7ec5eb793\n",
            "[I 2024-11-29 10:41:36,758] Trial 0 finished with value: 0.6792432889452547 and parameters: {'C': 0.012688081324949245, 'penalty': 'l2'}. Best is trial 0 with value: 0.6792432889452547.\n",
            "[I 2024-11-29 10:41:37,399] Trial 1 finished with value: 0.7694990488268865 and parameters: {'C': 2.8953510118755252, 'penalty': 'l2'}. Best is trial 1 with value: 0.7694990488268865.\n",
            "[I 2024-11-29 10:41:37,687] Trial 2 finished with value: 0.7598816317903192 and parameters: {'C': 0.4923294352654759, 'penalty': 'l2'}. Best is trial 1 with value: 0.7694990488268865.\n",
            "[I 2024-11-29 10:41:37,749] Trial 3 finished with value: 0.3333333333333333 and parameters: {'C': 0.00038275474647412716, 'penalty': 'l1'}. Best is trial 1 with value: 0.7694990488268865.\n",
            "[I 2024-11-29 10:41:38,230] Trial 4 finished with value: 0.7722468822659058 and parameters: {'C': 4.242196620964991, 'penalty': 'l2'}. Best is trial 4 with value: 0.7722468822659058.\n",
            "[I 2024-11-29 10:41:38,369] Trial 5 finished with value: 0.6700486155146903 and parameters: {'C': 0.008646643598196705, 'penalty': 'l2'}. Best is trial 4 with value: 0.7722468822659058.\n",
            "[I 2024-11-29 10:41:38,507] Trial 6 finished with value: 0.6207989854153456 and parameters: {'C': 0.00011253821977675658, 'penalty': 'l2'}. Best is trial 4 with value: 0.7722468822659058.\n",
            "[I 2024-11-29 10:41:38,691] Trial 7 finished with value: 0.6971042062988797 and parameters: {'C': 0.052808251278410635, 'penalty': 'l1'}. Best is trial 4 with value: 0.7722468822659058.\n",
            "[I 2024-11-29 10:41:39,393] Trial 8 finished with value: 0.7673853307968717 and parameters: {'C': 1.5434625621071636, 'penalty': 'l2'}. Best is trial 4 with value: 0.7722468822659058.\n",
            "[I 2024-11-29 10:41:39,942] Trial 9 finished with value: 0.7478334390192348 and parameters: {'C': 0.21474123078783372, 'penalty': 'l2'}. Best is trial 4 with value: 0.7722468822659058.\n",
            "[I 2024-11-29 10:41:40,536] Trial 10 finished with value: 0.7804903825829634 and parameters: {'C': 7.1147975953230915, 'penalty': 'l1'}. Best is trial 10 with value: 0.7804903825829634.\n",
            "[I 2024-11-29 10:41:41,020] Trial 11 finished with value: 0.7803846966814627 and parameters: {'C': 4.987002467311009, 'penalty': 'l1'}. Best is trial 10 with value: 0.7804903825829634.\n",
            "[I 2024-11-29 10:41:41,345] Trial 12 finished with value: 0.7804903825829634 and parameters: {'C': 8.172406439391017, 'penalty': 'l1'}. Best is trial 10 with value: 0.7804903825829634.\n",
            "[I 2024-11-29 10:41:41,818] Trial 13 finished with value: 0.7805960684844642 and parameters: {'C': 9.776272801931793, 'penalty': 'l1'}. Best is trial 13 with value: 0.7805960684844642.\n",
            "[I 2024-11-29 10:41:42,184] Trial 14 finished with value: 0.7784823504544494 and parameters: {'C': 0.4415975141244485, 'penalty': 'l1'}. Best is trial 13 with value: 0.7805960684844642.\n",
            "[I 2024-11-29 10:41:42,555] Trial 15 finished with value: 0.7279644895370958 and parameters: {'C': 0.07842943653905816, 'penalty': 'l1'}. Best is trial 13 with value: 0.7805960684844642.\n",
            "[I 2024-11-29 10:41:42,997] Trial 16 finished with value: 0.7791164658634538 and parameters: {'C': 1.1161839502599045, 'penalty': 'l1'}. Best is trial 13 with value: 0.7805960684844642.\n",
            "[I 2024-11-29 10:41:43,442] Trial 17 finished with value: 0.7805960684844642 and parameters: {'C': 9.820235813818984, 'penalty': 'l1'}. Best is trial 13 with value: 0.7805960684844642.\n",
            "[I 2024-11-29 10:41:43,580] Trial 18 finished with value: 0.450433312196153 and parameters: {'C': 0.007673046885488727, 'penalty': 'l1'}. Best is trial 13 with value: 0.7805960684844642.\n",
            "[I 2024-11-29 10:41:43,702] Trial 19 finished with value: 0.3333333333333333 and parameters: {'C': 0.0023752945003069153, 'penalty': 'l1'}. Best is trial 13 with value: 0.7805960684844642.\n",
            "[I 2024-11-29 10:41:43,953] Trial 20 finished with value: 0.7604100612978228 and parameters: {'C': 0.17744590301608196, 'penalty': 'l1'}. Best is trial 13 with value: 0.7805960684844642.\n",
            "[I 2024-11-29 10:41:44,454] Trial 21 finished with value: 0.7808074402874656 and parameters: {'C': 8.589101295478857, 'penalty': 'l1'}. Best is trial 21 with value: 0.7808074402874656.\n",
            "[I 2024-11-29 10:41:44,791] Trial 22 finished with value: 0.7793278376664553 and parameters: {'C': 1.8919651004276206, 'penalty': 'l1'}. Best is trial 21 with value: 0.7808074402874656.\n",
            "[I 2024-11-29 10:41:45,255] Trial 23 finished with value: 0.7808074402874656 and parameters: {'C': 8.401625301167298, 'penalty': 'l1'}. Best is trial 21 with value: 0.7808074402874656.\n",
            "[I 2024-11-29 10:41:45,580] Trial 24 finished with value: 0.7800676389769605 and parameters: {'C': 0.7194113375297929, 'penalty': 'l1'}. Best is trial 21 with value: 0.7808074402874656.\n",
            "[I 2024-11-29 10:41:45,988] Trial 25 finished with value: 0.7795392094694568 and parameters: {'C': 2.7503119383877985, 'penalty': 'l1'}. Best is trial 21 with value: 0.7808074402874656.\n",
            "[I 2024-11-29 10:41:46,359] Trial 26 finished with value: 0.7691819911223843 and parameters: {'C': 0.26224116324322033, 'penalty': 'l1'}. Best is trial 21 with value: 0.7808074402874656.\n",
            "[I 2024-11-29 10:41:46,648] Trial 27 finished with value: 0.7789050940604524 and parameters: {'C': 1.4567402813677026, 'penalty': 'l1'}. Best is trial 21 with value: 0.7808074402874656.\n",
            "[I 2024-11-29 10:41:46,981] Trial 28 finished with value: 0.7791164658634538 and parameters: {'C': 3.512260744385774, 'penalty': 'l1'}. Best is trial 21 with value: 0.7808074402874656.\n",
            "[I 2024-11-29 10:41:47,124] Trial 29 finished with value: 0.3333333333333333 and parameters: {'C': 0.0025510778195709885, 'penalty': 'l1'}. Best is trial 21 with value: 0.7808074402874656.\n",
            "2024/11/29 10:42:26 WARNING mlflow.models.model: Model logged without a signature and input example. Please set `input_example` parameter when logging the model to auto infer the model signature.\n"
          ]
        },
        {
          "name": "stdout",
          "output_type": "stream",
          "text": [
            "🏃 View run LogisticRegression_SMOTE_TFIDF_Trigrams at: https://dagshub.com/MohammoD2/Youtube-Comment-Analysis-.mlflow/#/experiments/5/runs/058bb6c4d3d647b4b377706c177646c9\n",
            "🧪 View experiment at: https://dagshub.com/MohammoD2/Youtube-Comment-Analysis-.mlflow/#/experiments/5\n"
          ]
        }
      ],
      "source": [
        "# Step 1: (Optional) Remapping - skipped since not strictly needed for Logistic Regression\n",
        "\n",
        "# Step 2: Remove rows where the target labels (category) are NaN\n",
        "df = df.dropna(subset=['category'])\n",
        "\n",
        "# Step 3: TF-IDF vectorizer setup\n",
        "ngram_range = (1, 3)  # Trigram\n",
        "max_features = 1000  # Set max_features to 1000\n",
        "vectorizer = TfidfVectorizer(ngram_range=ngram_range, max_features=max_features)\n",
        "X = vectorizer.fit_transform(df['clean_comment'])\n",
        "y = df['category']\n",
        "\n",
        "# Step 4: Apply SMOTE to handle class imbalance\n",
        "smote = SMOTE(random_state=42)\n",
        "X_resampled, y_resampled = smote.fit_resample(X, y)\n",
        "\n",
        "# Step 5: Train-test split\n",
        "X_train, X_test, y_train, y_test = train_test_split(X_resampled, y_resampled, test_size=0.2, random_state=42, stratify=y_resampled)\n",
        "\n",
        "# Function to log results in MLflow\n",
        "def log_mlflow(model_name, model, X_train, X_test, y_train, y_test):\n",
        "    with mlflow.start_run():\n",
        "        # Log model type\n",
        "        mlflow.set_tag(\"mlflow.runName\", f\"{model_name}_SMOTE_TFIDF_Trigrams\")\n",
        "        mlflow.set_tag(\"experiment_type\", \"algorithm_comparison\")\n",
        "\n",
        "        # Log algorithm name as a parameter\n",
        "        mlflow.log_param(\"algo_name\", model_name)\n",
        "\n",
        "        # Train model\n",
        "        model.fit(X_train, y_train)\n",
        "        y_pred = model.predict(X_test)\n",
        "\n",
        "        # Log accuracy\n",
        "        accuracy = accuracy_score(y_test, y_pred)\n",
        "        mlflow.log_metric(\"accuracy\", accuracy)\n",
        "\n",
        "        # Log classification report\n",
        "        classification_rep = classification_report(y_test, y_pred, output_dict=True)\n",
        "        for label, metrics in classification_rep.items():\n",
        "            if isinstance(metrics, dict):\n",
        "                for metric, value in metrics.items():\n",
        "                    mlflow.log_metric(f\"{label}_{metric}\", value)\n",
        "\n",
        "        # Log the model\n",
        "        mlflow.sklearn.log_model(model, f\"{model_name}_model\")\n",
        "\n",
        "\n",
        "# Step 6: Optuna objective function for Logistic Regression\n",
        "def objective_logreg(trial):\n",
        "    C = trial.suggest_float('C', 1e-4, 10.0, log=True)\n",
        "    penalty = trial.suggest_categorical('penalty', ['l1', 'l2'])\n",
        "\n",
        "    # LogisticRegression model setup with balanced class weight\n",
        "    model = LogisticRegression(C=C, penalty=penalty, solver='liblinear', random_state=42)\n",
        "    return accuracy_score(y_test, model.fit(X_train, y_train).predict(X_test))\n",
        "\n",
        "\n",
        "# Step 7: Run Optuna for Logistic Regression, log the best model only\n",
        "def run_optuna_experiment():\n",
        "    study = optuna.create_study(direction=\"maximize\")\n",
        "    study.optimize(objective_logreg, n_trials=30)\n",
        "\n",
        "    # Get the best parameters and log only the best model\n",
        "    best_params = study.best_params\n",
        "    best_model = LogisticRegression(C=best_params['C'], penalty=best_params['penalty'], solver='liblinear', random_state=42)\n",
        "\n",
        "    # Log the best model with MLflow, passing the algo_name as \"LogisticRegression\"\n",
        "    log_mlflow(\"LogisticRegression\", best_model, X_train, X_test, y_train, y_test)\n",
        "\n",
        "# Run the experiment for Logistic Regression\n",
        "run_optuna_experiment()\n"
      ]
    },
    {
      "cell_type": "code",
      "execution_count": null,
      "metadata": {
        "id": "bK55busCz2z5"
      },
      "outputs": [],
      "source": []
    }
  ],
  "metadata": {
    "colab": {
      "provenance": []
    },
    "kernelspec": {
      "display_name": "venv",
      "language": "python",
      "name": "python3"
    },
    "language_info": {
      "codemirror_mode": {
        "name": "ipython",
        "version": 3
      },
      "file_extension": ".py",
      "mimetype": "text/x-python",
      "name": "python",
      "nbconvert_exporter": "python",
      "pygments_lexer": "ipython3",
      "version": "3.12.0"
    }
  },
  "nbformat": 4,
  "nbformat_minor": 0
}
